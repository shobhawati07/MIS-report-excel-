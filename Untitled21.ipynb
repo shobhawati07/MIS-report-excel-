{
  "nbformat": 4,
  "nbformat_minor": 0,
  "metadata": {
    "colab": {
      "provenance": [],
      "authorship_tag": "ABX9TyPoelHDCyl72LIeTSOdO0BD",
      "include_colab_link": true
    },
    "kernelspec": {
      "name": "python3",
      "display_name": "Python 3"
    },
    "language_info": {
      "name": "python"
    }
  },
  "cells": [
    {
      "cell_type": "markdown",
      "metadata": {
        "id": "view-in-github",
        "colab_type": "text"
      },
      "source": [
        "<a href=\"https://colab.research.google.com/github/shobhawati07/MIS-report-excel-/blob/main/Untitled21.ipynb\" target=\"_parent\"><img src=\"https://colab.research.google.com/assets/colab-badge.svg\" alt=\"Open In Colab\"/></a>"
      ]
    },
    {
      "cell_type": "code",
      "execution_count": 1,
      "metadata": {
        "id": "B_JGNTh9Y3-g"
      },
      "outputs": [],
      "source": [
        "from bs4 import BeautifulSoup\n",
        "import requests\n",
        "import pandas as pd\n",
        "import numpy as np"
      ]
    },
    {
      "cell_type": "markdown",
      "source": [
        "**IMDB WEB SCRAPING USING BEAUTIFULSOUP:**\n",
        "\n",
        "Extracting following content from imdbpage\n",
        "\n",
        "\n",
        "1.Tv_show_name\n",
        "\n",
        "\n",
        "2.Ratings\n",
        "\n",
        "\n",
        "3.Show_type"
      ],
      "metadata": {
        "id": "iYyDfbIf9a8j"
      }
    },
    {
      "cell_type": "code",
      "source": [
        "## load the URL\n",
        "page= requests.get(\"https://www.imdb.com/chart/toptv/?ref_=nv_tvv_250\",headers=({'User-Agent':'Mozilla/5.0 (Windows NT 10.0; Win64; x64) AppleWebKit/537.36 (KHTML, like Gecko) Chrome/116.0.0.0 Safari/537.36', 'Accept-Language': 'en-US, en;q=0.5'}))"
      ],
      "metadata": {
        "id": "3n8wcYAqY6Ds"
      },
      "execution_count": 2,
      "outputs": []
    },
    {
      "cell_type": "code",
      "source": [
        "## Extracting Header 'h3'content\n",
        "soup = BeautifulSoup(page.content, \"html.parser\")\n",
        "new_soup=soup.find_all(\"h3\")[1:]"
      ],
      "metadata": {
        "id": "sjq2X8V3Y6hR"
      },
      "execution_count": 3,
      "outputs": []
    },
    {
      "cell_type": "code",
      "source": [
        "new_soup=soup.find_all(\"h3\")[1:]\n"
      ],
      "metadata": {
        "id": "g2VAaJChZnNU"
      },
      "execution_count": 4,
      "outputs": []
    },
    {
      "cell_type": "code",
      "source": [
        "#For extracting show_type\n",
        "show_type=soup.find_all(\"span\",attrs={\"class\":\"sc-b51a3d33-3 cUuvMP cli-title-type-data\"})\n",
        "\n",
        "#For extracting Rating\n",
        "rating=soup.find_all(\"span\",attrs={'class':\"ipc-rating-star ipc-rating-star--base ipc-rating-star--imdb ratingGroup--imdb-rating\"})"
      ],
      "metadata": {
        "id": "K_KeEUdz_E3n"
      },
      "execution_count": 5,
      "outputs": []
    },
    {
      "cell_type": "code",
      "source": [
        "#Lets extract Tv_showtname,Ratings,Show_type\n",
        "name=[]\n",
        "for line in new_soup:\n",
        "    name.append(line.text)\n",
        "\n",
        "#Show_type\n",
        "show_types=[]\n",
        "for line in show_type:\n",
        "  show_types.append(line.text)\n",
        "\n",
        "#Ratings\n",
        "ratings=[]\n",
        "for line in rating:\n",
        "  ratings.append(line.text)\n",
        "\n"
      ],
      "metadata": {
        "id": "1e9AFf9gZost"
      },
      "execution_count": 6,
      "outputs": []
    },
    {
      "cell_type": "code",
      "source": [
        "## lets check length of each list\n",
        "print(\"length of name \",len(name))\n",
        "print(\"length of show_type\",len(show_types))\n",
        "print(\"length of ratings \",len(ratings))"
      ],
      "metadata": {
        "id": "Qtyl5Xx8h8BZ",
        "colab": {
          "base_uri": "https://localhost:8080/"
        },
        "outputId": "c71f004c-d727-4e4f-dce1-d5a6cbd39e13"
      },
      "execution_count": 7,
      "outputs": [
        {
          "output_type": "stream",
          "name": "stdout",
          "text": [
            "length of name  262\n",
            "length of show_type 250\n",
            "length of ratings  250\n"
          ]
        }
      ]
    },
    {
      "cell_type": "code",
      "source": [
        "name=name[0:250]"
      ],
      "metadata": {
        "id": "K5ivVRkuCQBu"
      },
      "execution_count": 11,
      "outputs": []
    },
    {
      "cell_type": "code",
      "source": [
        "imdb=pd.DataFrame({\"tv_show_name\":name,\"Ratings\":ratings,\"Show_type\":show_types})"
      ],
      "metadata": {
        "id": "TdC2xpyhlvfh"
      },
      "execution_count": 13,
      "outputs": []
    },
    {
      "cell_type": "code",
      "source": [
        "imdb.to_csv(\"imdb_csv\")"
      ],
      "metadata": {
        "id": "aAPiy4bv11vY"
      },
      "execution_count": 17,
      "outputs": []
    },
    {
      "cell_type": "code",
      "source": [],
      "metadata": {
        "id": "15eaweszDWB1"
      },
      "execution_count": null,
      "outputs": []
    },
    {
      "cell_type": "code",
      "source": [],
      "metadata": {
        "id": "SDs-ueqQDHMX"
      },
      "execution_count": null,
      "outputs": []
    }
  ]
}